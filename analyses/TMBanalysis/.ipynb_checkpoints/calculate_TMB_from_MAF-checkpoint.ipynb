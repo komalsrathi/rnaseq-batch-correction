{
 "cells": [
  {
   "cell_type": "markdown",
   "metadata": {},
   "source": [
    "###### Calculate TMB scores from MAF files \n",
    "\n",
    "- This script takes in an MAF file that is in BED file format(without the first three columns)\n",
    "- The MAF file should contain all samples \n",
    "- It also takes in a manifest/histology and output file name \n",
    "- It looks for variants that show `Missense_Mutation`  or `Nonsense_Mutation`  in\n",
    "    `Variant_Classification`  column and calculates TMB score per sample\n",
    "- Each sample is matched up with the disease type from the histology and \n",
    "    output will be printed with sample name, disease type and TMB score in each line\n",
    "    \n"
   ]
  },
  {
   "cell_type": "code",
   "execution_count": null,
   "metadata": {},
   "outputs": [],
   "source": [
    "import pandas as pd\n",
    "import numpy as np\n",
    "\n",
    "maf_file=pd.read_csv(\"inputs/temp.withintarget.bed\", sep=\"\\t\", index_col=False)\n",
    "maf_file = maf_file.fillna(\"NA\")\n",
    "\n",
    "manifest = pd.read_csv(\"inputs/pbta-histologies.tsv\", sep=\"\\t\", index_col=False)\n",
    "\n",
    "sample_tmb_colnames = [\"Samplenames\", \"TMB\"]\n",
    "sample_tmb_df = pd.DataFrame(columns=sample_tmb_colnames)\n",
    "\n",
    "var_by_sample = maf_file.groupby(\"Tumor_Sample_Barcode\")\n",
    "for name in var_by_sample:\n",
    "    sample_name = name[0]\n",
    "    affected_var = name[1].loc[(name[1]['Variant_Classification'] == 'Missense_Mutation')|( name[1]['Variant_Classification'] ==  'Nonsense_Mutation')]\n",
    "    count = affected_var.shape[0]\n",
    "    sample_tmb_df = sample_tmb_df.append({\"Samplenames\" : sample_name , \"TMB\" : str(count*1000000/77462866)} , ignore_index=True)\n",
    "                                          \n",
    "final_tmb = sample_tmb_df.join(manifest.set_index(\"Kids_First_Biospecimen_ID\"), on=\"Samplenames\")[[\"Samplenames\",  \"TMB\", \"short_histology\"]]\n",
    "final_tmb.to_csv(\"outputs/test_tmbscores.txt\", index=False)"
   ]
  }
 ],
 "metadata": {
  "kernelspec": {
   "display_name": "Python 3",
   "language": "python",
   "name": "python3"
  },
  "language_info": {
   "codemirror_mode": {
    "name": "ipython",
    "version": 3
   },
   "file_extension": ".py",
   "mimetype": "text/x-python",
   "name": "python",
   "nbconvert_exporter": "python",
   "pygments_lexer": "ipython3",
   "version": "3.7.6"
  }
 },
 "nbformat": 4,
 "nbformat_minor": 4
}
