{
 "cells": [
  {
   "cell_type": "code",
   "execution_count": 49,
   "metadata": {},
   "outputs": [
    {
     "name": "stdout",
     "output_type": "stream",
     "text": [
      "2.6.0\n"
     ]
    }
   ],
   "source": [
    "#!/bin/env python\n",
    "# Author: Teja Koganti\n",
    "\n",
    "# 02_calculate_tmb_from_mafdb.py\n",
    "# This script does the following - \n",
    "#  1. Establishes a connection with sqlite \n",
    "#  2. Groupby column name \"Tumor_Sample_Barcode\" and counts the number of var\n",
    "            # for each sample from table \"mutect2\"\n",
    "#  3. Loads metadata file(pbta-histologies for PBTA)   \n",
    "#  4. Use join to match up sample names and disease types and prints the final DF\n",
    "#\n",
    "# Note: requires pandas and sqlite to be installed, and expects python3\n",
    "# conda install -c anaconda pandas\n",
    "# conda install -c anaconda sqlite\n",
    "\n",
    "\n",
    "import pandas as pd\n",
    "import numpy as np\n",
    "import sqlite3\n",
    "\n",
    "# Will use argparse after first PR\n",
    "metadatafile=\"/Users/kogantit/Documents/git_repos/d3b-bix-analysis-toolkit/analyses/TMBanalysis/inputs/pbta-histologies.tsv\"\n",
    "disease_col = \"short_histology\"\n",
    "samplename_col = \"Kids_First_Biospecimen_ID\"\n",
    "db_name=\"/Users/kogantit/Documents/git_repos/d3b-bix-analysis-toolkit/analyses/TMBanalysis/output/var_db.sqlite\"\n",
    "target_bed_size=77462866    # This will be counted in bash script when it is fully setup \n",
    "out_tmb = \"/Users/kogantit/Documents/git_repos/d3b-bix-analysis-toolkit/analyses/TMBanalysis/output/pbta-snv-mutect2-tmbscores.txt\"\n",
    "\n",
    "\n",
    "# Establiching a connection to the MAF db \n",
    "def create_connection(db_file):\n",
    "    \"\"\" create a database connection to a SQLite database \"\"\"\n",
    "    conn = None\n",
    "    try:\n",
    "        conn = sqlite3.connect(db_file)\n",
    "        print(sqlite3.version)\n",
    "    except Error as e:\n",
    "        print(\"Error connecting to database\")\n",
    "    return(conn)    \n",
    "\n",
    "\n",
    "# Creating and empty DF with columns for sample name and TMB\n",
    "sample_tmb_colnames = [\"Samplenames\", \"TMB\"]\n",
    "sample_tmb_df = pd.DataFrame(columns=sample_tmb_colnames)\n",
    "\n",
    "\n",
    "# Starting a database connection     \n",
    "con = create_connection(db_name)\n",
    "# Using GROUPBY to count vars in each sample from table mutect2\n",
    "var_db = con.execute('select Tumor_Sample_Barcode,count(Tumor_Sample_Barcode) from mutect2 GROUP BY  Tumor_Sample_Barcode')\n",
    "\n",
    "# Calculating TMB based on the results from MAF DB\n",
    "for each_sample in var_db.fetchall():\n",
    "    samplename = each_sample[0]\n",
    "    #print(samplename,  (int(each_sample[1])*1000000)/target_bed_size)\n",
    "    sample_tmb_df = sample_tmb_df.append({\"Samplenames\" : samplename ,\n",
    "                                          \"TMB\" : (int(each_sample[1])*1000000)/target_bed_size} , ignore_index=True)\n",
    "\n",
    "# Reading in metadata file to extract disease types\n",
    "metadata = pd.read_csv(metadatafile, sep=\"\\t\", index_col=False)\n",
    "\n",
    "\n",
    "#Checking of all samples within db_name are in the metadata file \n",
    "if not (np.in1d(sample_tmb_df[\"Samplenames\"].astype(str), manifest[samplename_col].astype(str))).all():\n",
    "    print(\"\\n-----Error message: Samples not in metadata file!-----\\n\")\n",
    "    sys.exit()\n",
    "    \n",
    "\n",
    "# Joining TMB results and metedata file and keeping only relevant columns \n",
    "final_tmb = sample_tmb_df.join(manifest.set_index(samplename_col), \n",
    "                               on=\"Samplenames\")[[\"Samplenames\",  \"TMB\", disease_col]]\n",
    "final_tmb.to_csv(out_tmb, index=False)\n",
    "\n",
    "\n"
   ]
  },
  {
   "cell_type": "code",
   "execution_count": null,
   "metadata": {},
   "outputs": [],
   "source": []
  }
 ],
 "metadata": {
  "kernelspec": {
   "display_name": "Python 3",
   "language": "python",
   "name": "python3"
  },
  "language_info": {
   "codemirror_mode": {
    "name": "ipython",
    "version": 3
   },
   "file_extension": ".py",
   "mimetype": "text/x-python",
   "name": "python",
   "nbconvert_exporter": "python",
   "pygments_lexer": "ipython3",
   "version": "3.7.6"
  }
 },
 "nbformat": 4,
 "nbformat_minor": 4
}
