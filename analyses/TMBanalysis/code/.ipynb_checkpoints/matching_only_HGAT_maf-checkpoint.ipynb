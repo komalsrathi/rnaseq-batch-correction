{
 "cells": [
  {
   "cell_type": "code",
   "execution_count": 2,
   "metadata": {},
   "outputs": [],
   "source": [
    "import pandas as pd \n",
    "import numpy as np \n",
    "\n",
    "\n"
   ]
  },
  {
   "cell_type": "code",
   "execution_count": 41,
   "metadata": {},
   "outputs": [],
   "source": [
    "pbta_wxs_maf = pd.read_csv(\"/Users/kogantit/Documents/TMB/OpenPBTA_consensus_methods_inputs/pbta_wxs-consensus-open-pbta-merged.maf\", sep=\"\\t\")\n",
    "pbta_wgs_maf = pd.read_csv(\"/Users/kogantit/Documents/TMB/OpenPBTA_consensus_methods_inputs/pbta_wgs-consensus-open-pbta-merged.maf\", sep=\"\\t\")\n",
    "maf_col = list(pbta_wxs_maf.columns)\n"
   ]
  },
  {
   "cell_type": "code",
   "execution_count": 35,
   "metadata": {},
   "outputs": [
    {
     "data": {
      "text/plain": [
       "2619    BS_1RTE2KEX\n",
       "2628    BS_2HDEZFTW\n",
       "2630    BS_2KMB51YF\n",
       "2631    BS_328C4BW5\n",
       "2637    BS_402W79TS\n",
       "Name: Kids_First_Biospecimen_ID, dtype: object"
      ]
     },
     "execution_count": 35,
     "metadata": {},
     "output_type": "execute_result"
    }
   ],
   "source": [
    "\n",
    "histology = pd.read_csv(\"/Users/kogantit/Documents/TMB/inputs_used/pbta-histologies.tsv\", sep=\"\\t\")\n",
    "\n",
    "\n",
    "HGAT_histology = histology[histology[\"short_histology\"]==\"HGAT\"]\n",
    "HGAT_WXS_samples = HGAT_histology[HGAT_histology[\"experimental_strategy\"]==\"WXS\"][\"Kids_First_Biospecimen_ID\"]\n",
    "HGAT_WGS_samples = HGAT_histology[HGAT_histology[\"experimental_strategy\"]==\"WGS\"][\"Kids_First_Biospecimen_ID\"]\n",
    "\n",
    "\n",
    "\n"
   ]
  },
  {
   "cell_type": "code",
   "execution_count": null,
   "metadata": {},
   "outputs": [],
   "source": []
  }
 ],
 "metadata": {
  "kernelspec": {
   "display_name": "Python 3",
   "language": "python",
   "name": "python3"
  },
  "language_info": {
   "codemirror_mode": {
    "name": "ipython",
    "version": 3
   },
   "file_extension": ".py",
   "mimetype": "text/x-python",
   "name": "python",
   "nbconvert_exporter": "python",
   "pygments_lexer": "ipython3",
   "version": "3.7.6"
  }
 },
 "nbformat": 4,
 "nbformat_minor": 4
}
